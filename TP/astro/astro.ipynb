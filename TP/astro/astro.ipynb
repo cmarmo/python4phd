{
 "cells": [
  {
   "cell_type": "code",
   "execution_count": 1,
   "metadata": {},
   "outputs": [],
   "source": [
    "%matplotlib inline\n",
    "from astroquery.vizier import Vizier\n",
    "from astropy import coordinates as coords\n",
    "from matplotlib import pyplot as pl"
   ]
  },
  {
   "cell_type": "code",
   "execution_count": 2,
   "metadata": {},
   "outputs": [
    {
     "name": "stdout",
     "output_type": "stream",
     "text": [
      "OrderedDict([('V/147', </>)])\n",
      "{'V/147': 'The SDSS Photometric Catalogue, Release 12 (Alam+, 2015)'}\n"
     ]
    }
   ],
   "source": [
    "catalog_list = Vizier.find_catalogs('V/147')\n",
    "print(catalog_list)\n",
    "print({k:v.description for k,v in catalog_list.items()})"
   ]
  },
  {
   "cell_type": "code",
   "execution_count": 3,
   "metadata": {},
   "outputs": [
    {
     "name": "stdout",
     "output_type": "stream",
     "text": [
      "TableList with 1 tables:\n",
      "\t'0:V/147/sdss12' with 11 column(s) and 50 row(s) \n"
     ]
    }
   ],
   "source": [
    "co = coords.SkyCoord('0h8m05.63s +14d50m23.3s')\n",
    "Vizier.ROW_LIMIT = 1000\n",
    "v = Vizier(columns=['RA_ICRS','DE_ICRS','gmag','e_gmag','rmag','e_rmag','rdVrad','rdVell','rPA','rs','gs'], catalog='V/147')\n",
    "result = v.query_region(co, radius='0.1deg', catalog='V/147')\n",
    "print(result)"
   ]
  },
  {
   "cell_type": "code",
   "execution_count": 4,
   "metadata": {},
   "outputs": [
    {
     "name": "stdout",
     "output_type": "stream",
     "text": [
      "Index(['RA_ICRS', 'DE_ICRS', 'gmag', 'e_gmag', 'rmag', 'e_rmag', 'rdVrad',\n",
      "       'rdVell', 'rPA', 'rs', 'gs'],\n",
      "      dtype='object')\n"
     ]
    }
   ],
   "source": [
    "result_df = result['V/147/sdss12'].to_pandas()\n",
    "print(result_df.columns)"
   ]
  },
  {
   "cell_type": "code",
   "execution_count": null,
   "metadata": {},
   "outputs": [],
   "source": []
  }
 ],
 "metadata": {
  "kernelspec": {
   "display_name": "Python 3",
   "language": "python",
   "name": "python3"
  },
  "language_info": {
   "codemirror_mode": {
    "name": "ipython",
    "version": 3
   },
   "file_extension": ".py",
   "mimetype": "text/x-python",
   "name": "python",
   "nbconvert_exporter": "python",
   "pygments_lexer": "ipython3",
   "version": "3.6.6"
  }
 },
 "nbformat": 4,
 "nbformat_minor": 2
}
