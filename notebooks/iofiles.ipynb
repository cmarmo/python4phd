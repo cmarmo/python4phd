{
 "cells": [
  {
   "cell_type": "markdown",
   "metadata": {},
   "source": [
    "### Reading and writing files\n",
    "Check the [Python documentation](https://docs.python.org/3/tutorial/inputoutput.html#reading-and-writing-files)"
   ]
  },
  {
   "cell_type": "code",
   "execution_count": 4,
   "metadata": {},
   "outputs": [
    {
     "name": "stdout",
     "output_type": "stream",
     "text": [
      "<class '_io.TextIOWrapper'>\n",
      "#\n",
      "####### example-requirements.txt #######\n",
      "# https://pip.pypa.io/en/stable/reference/pip_install/#requirements-file-format\n",
      "###### Requirements without Version Specifiers ######\n",
      "nose\n",
      "nose-cov\n",
      "beautifulsoup4\n",
      "#\n",
      "###### Requirements with Version Specifiers ######\n",
      "#   See https://www.python.org/dev/peps/pep-0440/#version-specifiers\n",
      "docopt == 0.6.1             # Version Matching. Must be version 0.6.1\n",
      "keyring >= 4.1.1            # Minimum version 4.1.1\n",
      "coverage != 3.5             # Version Exclusion. Anything except version 3.5\n",
      "Mopidy-Dirble ~= 1.1        # Compatible release. Same as >= 1.1, == 1.*\n",
      "#\n",
      "###### Additional Requirements without Version Specifiers ######\n",
      "#   Same as 1st section, just here to show that you can put things in any order.\n",
      "rejected\n",
      "green\n",
      "#\n",
      "\n"
     ]
    },
    {
     "data": {
      "text/plain": [
       "True"
      ]
     },
     "execution_count": 4,
     "metadata": {},
     "output_type": "execute_result"
    }
   ],
   "source": [
    "f = open('../requirements4pip.txt', 'r')\n",
    "print(type(f))\n",
    "text = f.read()\n",
    "print(text)\n",
    "f.close()\n",
    "f.closed"
   ]
  },
  {
   "cell_type": "code",
   "execution_count": 14,
   "metadata": {},
   "outputs": [
    {
     "name": "stdout",
     "output_type": "stream",
     "text": [
      "20\n",
      "<class 'list'>\n",
      "0\n",
      "0 #\n",
      "\n",
      "1\n",
      "1 ####### example-requirements.txt #######\n",
      "\n",
      "2\n",
      "2 # https://pip.pypa.io/en/stable/reference/pip_install/#requirements-file-format\n",
      "\n",
      "3\n",
      "3 ###### Requirements without Version Specifiers ######\n",
      "\n",
      "4\n",
      "4 nose\n",
      "\n",
      "5\n",
      "5 nose-cov\n",
      "\n",
      "6\n",
      "6 beautifulsoup4\n",
      "\n",
      "7\n",
      "7 #\n",
      "\n",
      "8\n",
      "8 ###### Requirements with Version Specifiers ######\n",
      "\n",
      "9\n",
      "9 #   See https://www.python.org/dev/peps/pep-0440/#version-specifiers\n",
      "\n",
      "10\n",
      "10 docopt == 0.6.1             # Version Matching. Must be version 0.6.1\n",
      "\n",
      "11\n",
      "11 keyring >= 4.1.1            # Minimum version 4.1.1\n",
      "\n",
      "12\n",
      "12 coverage != 3.5             # Version Exclusion. Anything except version 3.5\n",
      "\n",
      "13\n",
      "13 Mopidy-Dirble ~= 1.1        # Compatible release. Same as >= 1.1, == 1.*\n",
      "\n",
      "14\n",
      "14 #\n",
      "\n",
      "15\n",
      "15 ###### Additional Requirements without Version Specifiers ######\n",
      "\n",
      "16\n",
      "16 #   Same as 1st section, just here to show that you can put things in any order.\n",
      "\n",
      "17\n",
      "17 rejected\n",
      "\n",
      "18\n",
      "18 green\n",
      "\n",
      "19\n",
      "19 #\n",
      "\n"
     ]
    },
    {
     "data": {
      "text/plain": [
       "True"
      ]
     },
     "execution_count": 14,
     "metadata": {},
     "output_type": "execute_result"
    }
   ],
   "source": [
    "with open('../requirements4pip.txt', 'r') as f:\n",
    "    lines = f.readlines()\n",
    "    print(len(lines))\n",
    "    print(type(lines))\n",
    "    i = 0\n",
    "    while i < len(lines):\n",
    "        print(i)\n",
    "        print(str(i) + ' ' + lines[i])\n",
    "        i += 1\n",
    "f.closed"
   ]
  }
 ],
 "metadata": {
  "kernelspec": {
   "display_name": "Python 3",
   "language": "python",
   "name": "python3"
  },
  "language_info": {
   "codemirror_mode": {
    "name": "ipython",
    "version": 3
   },
   "file_extension": ".py",
   "mimetype": "text/x-python",
   "name": "python",
   "nbconvert_exporter": "python",
   "pygments_lexer": "ipython3",
   "version": "3.6.6"
  }
 },
 "nbformat": 4,
 "nbformat_minor": 2
}
