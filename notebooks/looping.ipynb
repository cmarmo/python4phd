{
 "cells": [
  {
   "cell_type": "markdown",
   "metadata": {},
   "source": [
    "### Looping and Control Flow (Compound) Statements\n",
    "Check the <a href=\"https://docs.python.org/3/reference/compound_stmts.html#compound-statements\" target=\"_blank\">Python documentation</a>"
   ]
  },
  {
   "cell_type": "code",
   "execution_count": 1,
   "metadata": {},
   "outputs": [],
   "source": [
    "mydict = [{'name': 'Bill', 'surname': 'Evans', 'instrument': 'piano', 'birthdate': '16-08-1929', 'deathdate': '15-09-1980'},\n",
    "          {'name': 'Bill', 'surname': 'Evans', 'instrument': 'saxophone', 'birthdate': '09-02-1958'},\n",
    "          {'name': 'Miles', 'surname': 'Davis', 'instrument': 'trumpet', 'birthdate': '26-05-1926', 'deathdate': '28-09-1991'},\n",
    "          {'name': 'John', 'surname': 'Coltrane', 'instrument': 'saxophone', 'birthdate': '23-09-1926', 'deathdate': '17-07-1967'}]"
   ]
  },
  {
   "cell_type": "code",
   "execution_count": 2,
   "metadata": {},
   "outputs": [
    {
     "name": "stdout",
     "output_type": "stream",
     "text": [
      "<class 'list'>\n",
      "4\n",
      "<class 'dict'>\n",
      "5\n"
     ]
    }
   ],
   "source": [
    "print(type(mydict))\n",
    "print(len(mydict))\n",
    "print(type(mydict[0]))\n",
    "print(len(mydict[0]))"
   ]
  },
  {
   "cell_type": "code",
   "execution_count": 3,
   "metadata": {},
   "outputs": [
    {
     "name": "stdout",
     "output_type": "stream",
     "text": [
      "Evans\n",
      "15-09-1980\n",
      "Evans\n",
      "He is'nt dead yet!\n",
      "saxophone\n"
     ]
    }
   ],
   "source": [
    "for dicts in mydict:\n",
    "    if dicts['name'] == 'Bill':\n",
    "        print(dicts['surname'])\n",
    "        try:\n",
    "            print(dicts['deathdate'])\n",
    "        except:\n",
    "            print('He is\\'nt dead yet!')\n",
    "    elif dicts['name'] == 'Miles':\n",
    "        continue\n",
    "    else:\n",
    "        print(dicts['instrument'])"
   ]
  },
  {
   "cell_type": "code",
   "execution_count": 4,
   "metadata": {},
   "outputs": [
    {
     "name": "stdout",
     "output_type": "stream",
     "text": [
      "Evans\n",
      "15-09-1980\n",
      "Evans\n",
      "He is'nt dead yet!\n"
     ]
    }
   ],
   "source": [
    "for dicts in mydict:\n",
    "    if dicts['name'] == 'Bill':\n",
    "        print(dicts['surname'])\n",
    "        try:\n",
    "            print(dicts['deathdate'])\n",
    "        except:\n",
    "            print('He is\\'nt dead yet!')\n",
    "    elif dicts['name'] == 'Miles':\n",
    "        break\n",
    "    else:\n",
    "        print(dicts['instrument'])"
   ]
  },
  {
   "cell_type": "code",
   "execution_count": 14,
   "metadata": {},
   "outputs": [
    {
     "name": "stdout",
     "output_type": "stream",
     "text": [
      "6\n",
      "2.7\n",
      "12.6\n"
     ]
    }
   ],
   "source": [
    "myfloatlist = [3.5, 6.4, 10.3, 4.8, 2.7, 12.6]\n",
    "print(len(myfloatlist))\n",
    "print(min(myfloatlist))\n",
    "print(max(myfloatlist))"
   ]
  },
  {
   "cell_type": "code",
   "execution_count": 6,
   "metadata": {},
   "outputs": [
    {
     "name": "stdout",
     "output_type": "stream",
     "text": [
      "40.300000000000004\n"
     ]
    },
    {
     "ename": "NameError",
     "evalue": "name 'mean' is not defined",
     "output_type": "error",
     "traceback": [
      "\u001b[0;31m---------------------------------------------------------------------------\u001b[0m",
      "\u001b[0;31mNameError\u001b[0m                                 Traceback (most recent call last)",
      "\u001b[0;32m<ipython-input-6-e2ff653e5c1c>\u001b[0m in \u001b[0;36m<module>\u001b[0;34m()\u001b[0m\n\u001b[1;32m      1\u001b[0m \u001b[0mprint\u001b[0m\u001b[0;34m(\u001b[0m\u001b[0msum\u001b[0m\u001b[0;34m(\u001b[0m\u001b[0mmyfloatlist\u001b[0m\u001b[0;34m)\u001b[0m\u001b[0;34m)\u001b[0m\u001b[0;34m\u001b[0m\u001b[0m\n\u001b[0;32m----> 2\u001b[0;31m \u001b[0mprint\u001b[0m\u001b[0;34m(\u001b[0m\u001b[0mmean\u001b[0m\u001b[0;34m(\u001b[0m\u001b[0mmyfloatlist\u001b[0m\u001b[0;34m)\u001b[0m\u001b[0;34m)\u001b[0m\u001b[0;34m\u001b[0m\u001b[0m\n\u001b[0m",
      "\u001b[0;31mNameError\u001b[0m: name 'mean' is not defined"
     ]
    }
   ],
   "source": [
    "print(sum(myfloatlist))\n",
    "print(mean(myfloatlist))"
   ]
  },
  {
   "cell_type": "code",
   "execution_count": 7,
   "metadata": {},
   "outputs": [
    {
     "name": "stdout",
     "output_type": "stream",
     "text": [
      "6.716666666666668\n"
     ]
    }
   ],
   "source": [
    "mean = sum(myfloatlist) / len(myfloatlist)\n",
    "print(mean)"
   ]
  },
  {
   "cell_type": "code",
   "execution_count": 7,
   "metadata": {},
   "outputs": [
    {
     "ename": "TypeError",
     "evalue": "can only concatenate list (not \"float\") to list",
     "output_type": "error",
     "traceback": [
      "\u001b[0;31m---------------------------------------------------------------------------\u001b[0m",
      "\u001b[0;31mTypeError\u001b[0m                                 Traceback (most recent call last)",
      "\u001b[0;32m<ipython-input-7-e44881eed330>\u001b[0m in \u001b[0;36m<module>\u001b[0;34m()\u001b[0m\n\u001b[0;32m----> 1\u001b[0;31m \u001b[0mmyfloatlist\u001b[0m \u001b[0;34m=\u001b[0m \u001b[0mmyfloatlist\u001b[0m \u001b[0;34m+\u001b[0m \u001b[0;36m2.\u001b[0m\u001b[0;34m\u001b[0m\u001b[0m\n\u001b[0m",
      "\u001b[0;31mTypeError\u001b[0m: can only concatenate list (not \"float\") to list"
     ]
    }
   ],
   "source": [
    "myfloatlist = myfloatlist + 2."
   ]
  },
  {
   "cell_type": "code",
   "execution_count": 16,
   "metadata": {},
   "outputs": [
    {
     "name": "stdout",
     "output_type": "stream",
     "text": [
      "5.5\n",
      "8.4\n",
      "12.3\n",
      "6.8\n",
      "4.7\n",
      "14.6\n",
      "[3.5, 6.4, 10.3, 4.8, 2.7, 12.6]\n"
     ]
    }
   ],
   "source": [
    "for i in myfloatlist:\n",
    "    i += 2\n",
    "    print(i)\n",
    "    \n",
    "print(myfloatlist)"
   ]
  },
  {
   "cell_type": "code",
   "execution_count": 17,
   "metadata": {},
   "outputs": [
    {
     "name": "stdout",
     "output_type": "stream",
     "text": [
      "5.5\n",
      "8.4\n",
      "12.3\n",
      "6.8\n",
      "4.7\n",
      "14.6\n",
      "[5.5, 8.4, 12.3, 6.8, 4.7, 14.6]\n"
     ]
    }
   ],
   "source": [
    "for i in range(0,len(myfloatlist)):\n",
    "    myfloatlist[i] += 2\n",
    "    print(myfloatlist[i])\n",
    "    \n",
    "print(myfloatlist)"
   ]
  },
  {
   "cell_type": "code",
   "execution_count": 18,
   "metadata": {},
   "outputs": [
    {
     "name": "stdout",
     "output_type": "stream",
     "text": [
      "[7.5, 10.4, 14.3, 8.8, 6.7, 16.6]\n"
     ]
    }
   ],
   "source": [
    "i = 0\n",
    "while i<len(myfloatlist):\n",
    "    myfloatlist[i] += 2\n",
    "    i += 1\n",
    "    \n",
    "print(myfloatlist)"
   ]
  }
 ],
 "metadata": {
  "kernelspec": {
   "display_name": "Python 3",
   "language": "python",
   "name": "python3"
  },
  "language_info": {
   "codemirror_mode": {
    "name": "ipython",
    "version": 3
   },
   "file_extension": ".py",
   "mimetype": "text/x-python",
   "name": "python",
   "nbconvert_exporter": "python",
   "pygments_lexer": "ipython3",
   "version": "3.6.6"
  }
 },
 "nbformat": 4,
 "nbformat_minor": 2
}
