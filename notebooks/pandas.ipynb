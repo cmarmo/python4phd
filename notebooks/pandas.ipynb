{
 "cells": [
  {
   "cell_type": "markdown",
   "metadata": {},
   "source": [
    "### Pandas\n",
    "Check the [documentation](https://pandas.pydata.org/pandas-docs/stable/)"
   ]
  },
  {
   "cell_type": "code",
   "execution_count": 1,
   "metadata": {},
   "outputs": [],
   "source": [
    "%matplotlib inline\n",
    "\n",
    "import pandas as pd\n",
    "import numpy as np\n",
    "import matplotlib.pyplot as plt"
   ]
  },
  {
   "cell_type": "code",
   "execution_count": 2,
   "metadata": {},
   "outputs": [
    {
     "name": "stdout",
     "output_type": "stream",
     "text": [
      "<class 'pandas.core.frame.DataFrame'>\n",
      "15005\n",
      "CPU times: user 4.47 ms, sys: 3.78 ms, total: 8.25 ms\n",
      "Wall time: 8.09 ms\n"
     ]
    },
    {
     "data": {
      "text/plain": [
       "<bound method DataFrame.info of                    time  value\n",
       "0      2012-10-10 02:00   0.08\n",
       "1      2012-10-10 04:00   0.08\n",
       "2      2012-10-10 06:00   0.08\n",
       "3      2012-10-10 08:00   0.08\n",
       "4      2012-10-10 10:00   0.08\n",
       "5      2012-10-10 12:00   0.08\n",
       "6      2012-10-10 14:00   0.08\n",
       "7      2012-10-10 16:00   0.08\n",
       "8      2012-10-10 18:00   0.08\n",
       "9      2012-10-10 20:00   0.05\n",
       "10     2012-10-10 22:00   0.05\n",
       "11     2012-10-11 00:00   0.08\n",
       "12     2012-10-11 02:00   0.05\n",
       "13     2012-10-11 04:00   0.05\n",
       "14     2012-10-11 06:00   0.05\n",
       "15     2012-10-11 08:00   0.05\n",
       "16     2012-10-11 10:00   0.05\n",
       "17     2012-10-11 12:00   0.05\n",
       "18     2012-10-11 14:00   0.05\n",
       "19     2012-10-11 16:00   0.05\n",
       "20     2012-10-11 18:00   0.05\n",
       "21     2012-10-11 20:00   0.05\n",
       "22     2012-10-11 22:00   0.05\n",
       "23     2012-10-12 00:00   0.05\n",
       "24     2012-10-12 02:00   0.02\n",
       "25     2012-10-12 04:00   0.02\n",
       "26     2012-10-12 06:00   0.05\n",
       "27     2012-10-12 08:00   0.02\n",
       "28     2012-10-12 10:00   0.02\n",
       "29     2012-10-12 12:00   0.02\n",
       "...                 ...    ...\n",
       "14975  2016-09-13 12:00   1.80\n",
       "14976  2016-09-13 16:00   1.80\n",
       "14977  2016-09-13 20:00   1.80\n",
       "14978  2016-09-14 00:00   1.70\n",
       "14979  2016-09-14 04:00   1.70\n",
       "14980  2016-09-14 08:00   1.70\n",
       "14981  2016-09-14 12:00   1.60\n",
       "14982  2016-09-14 16:00   1.60\n",
       "14983  2016-09-14 20:00   1.60\n",
       "14984  2016-09-15 00:00   1.60\n",
       "14985  2016-09-15 04:00   1.60\n",
       "14986  2016-09-15 08:00   1.50\n",
       "14987  2016-09-15 12:00   1.50\n",
       "14988  2016-09-15 16:00   1.50\n",
       "14989  2016-09-15 20:00   1.50\n",
       "14990  2016-09-16 00:00   1.50\n",
       "14991  2016-09-16 04:00   1.50\n",
       "14992  2016-09-16 08:00   1.50\n",
       "14993  2016-09-16 12:00   1.50\n",
       "14994  2016-09-16 16:00   1.40\n",
       "14995  2016-09-16 20:00   1.40\n",
       "14996  2016-09-17 00:00   1.40\n",
       "14997  2016-09-17 04:00   1.40\n",
       "14998  2016-09-17 08:00   1.30\n",
       "14999  2016-09-17 12:00   1.30\n",
       "15000  2016-09-17 16:00   1.30\n",
       "15001  2016-09-17 20:00   1.30\n",
       "15002  2016-09-18 00:00   1.30\n",
       "15003  2016-09-18 04:00   1.30\n",
       "15004  2016-09-18 08:00   1.30\n",
       "\n",
       "[15005 rows x 2 columns]>"
      ]
     },
     "execution_count": 2,
     "metadata": {},
     "output_type": "execute_result"
    }
   ],
   "source": [
    "filename = ('data/csv_example.csv')\n",
    "mydata = pd.read_csv(filename)\n",
    "print(type(mydata))\n",
    "print(len(mydata))\n",
    "%time _ = pd.read_csv(filename)\n",
    "mydata.info"
   ]
  },
  {
   "cell_type": "code",
   "execution_count": 3,
   "metadata": {},
   "outputs": [
    {
     "name": "stdout",
     "output_type": "stream",
     "text": [
      "Index(['time', 'value'], dtype='object')\n",
      "time      object\n",
      "value    float64\n",
      "dtype: object\n",
      "(15005, 2)\n",
      "30010\n",
      "[['2012-10-10 02:00' 0.08]\n",
      " ['2012-10-10 04:00' 0.08]\n",
      " ['2012-10-10 06:00' 0.08]\n",
      " ...\n",
      " ['2016-09-18 00:00' 1.3]\n",
      " ['2016-09-18 04:00' 1.3]\n",
      " ['2016-09-18 08:00' 1.3]]\n"
     ]
    }
   ],
   "source": [
    "print(mydata.columns)\n",
    "print(mydata.dtypes)\n",
    "print(mydata.shape)\n",
    "print(mydata.size)\n",
    "print(mydata.values)"
   ]
  },
  {
   "cell_type": "code",
   "execution_count": 4,
   "metadata": {},
   "outputs": [
    {
     "data": {
      "text/plain": [
       "'2013-01-05 04:00'"
      ]
     },
     "execution_count": 4,
     "metadata": {},
     "output_type": "execute_result"
    }
   ],
   "source": [
    "mydata.time[1045]"
   ]
  },
  {
   "cell_type": "code",
   "execution_count": 5,
   "metadata": {},
   "outputs": [
    {
     "data": {
      "text/plain": [
       "-2.68"
      ]
     },
     "execution_count": 5,
     "metadata": {},
     "output_type": "execute_result"
    }
   ],
   "source": [
    "mydata.value[1045]"
   ]
  },
  {
   "cell_type": "code",
   "execution_count": 6,
   "metadata": {},
   "outputs": [
    {
     "data": {
      "text/plain": [
       "'2013-01-05 04:00'"
      ]
     },
     "execution_count": 6,
     "metadata": {},
     "output_type": "execute_result"
    }
   ],
   "source": [
    "mydata.at[1045,'time']"
   ]
  },
  {
   "cell_type": "code",
   "execution_count": 7,
   "metadata": {},
   "outputs": [
    {
     "name": "stdout",
     "output_type": "stream",
     "text": [
      "RangeIndex(start=0, stop=15005, step=1)\n"
     ]
    }
   ],
   "source": [
    "print(mydata.index)"
   ]
  },
  {
   "cell_type": "code",
   "execution_count": 8,
   "metadata": {},
   "outputs": [
    {
     "name": "stdout",
     "output_type": "stream",
     "text": [
      "DatetimeIndex(['2012-10-10 02:00:00', '2012-10-10 04:00:00',\n",
      "               '2012-10-10 06:00:00', '2012-10-10 08:00:00',\n",
      "               '2012-10-10 10:00:00', '2012-10-10 12:00:00',\n",
      "               '2012-10-10 14:00:00', '2012-10-10 16:00:00',\n",
      "               '2012-10-10 18:00:00', '2012-10-10 20:00:00',\n",
      "               ...\n",
      "               '2016-09-16 20:00:00', '2016-09-17 00:00:00',\n",
      "               '2016-09-17 04:00:00', '2016-09-17 08:00:00',\n",
      "               '2016-09-17 12:00:00', '2016-09-17 16:00:00',\n",
      "               '2016-09-17 20:00:00', '2016-09-18 00:00:00',\n",
      "               '2016-09-18 04:00:00', '2016-09-18 08:00:00'],\n",
      "              dtype='datetime64[ns]', name='time', length=15005, freq=None)\n"
     ]
    }
   ],
   "source": [
    "mydata.index = pd.to_datetime(mydata.pop('time'))\n",
    "print(mydata.index)"
   ]
  },
  {
   "cell_type": "code",
   "execution_count": 9,
   "metadata": {},
   "outputs": [
    {
     "name": "stdout",
     "output_type": "stream",
     "text": [
      "Index(['value'], dtype='object')\n",
      "value    float64\n",
      "dtype: object\n",
      "(15005, 1)\n",
      "15005\n",
      "[[0.08]\n",
      " [0.08]\n",
      " [0.08]\n",
      " ...\n",
      " [1.3 ]\n",
      " [1.3 ]\n",
      " [1.3 ]]\n"
     ]
    },
    {
     "data": {
      "text/plain": [
       "0.0"
      ]
     },
     "execution_count": 9,
     "metadata": {},
     "output_type": "execute_result"
    }
   ],
   "source": [
    "print(mydata.columns)\n",
    "print(mydata.dtypes)\n",
    "print(mydata.shape)\n",
    "print(mydata.size)\n",
    "print(mydata.values)\n",
    "mydata.value['2012-10-14 20:00']"
   ]
  },
  {
   "cell_type": "code",
   "execution_count": 10,
   "metadata": {},
   "outputs": [
    {
     "name": "stdout",
     "output_type": "stream",
     "text": [
      "value    13884\n",
      "dtype: int64\n"
     ]
    },
    {
     "data": {
      "text/plain": [
       "nan"
      ]
     },
     "execution_count": 10,
     "metadata": {},
     "output_type": "execute_result"
    }
   ],
   "source": [
    "mymaskeddata = mydata.mask(mydata == 0.0)\n",
    "print(mymaskeddata.count())\n",
    "mymaskeddata.value['2012-10-14 20:00']"
   ]
  },
  {
   "cell_type": "code",
   "execution_count": 11,
   "metadata": {},
   "outputs": [
    {
     "data": {
      "text/plain": [
       "time\n",
       "2016-09-18 00:00:00    1.3\n",
       "2016-09-18 04:00:00    1.3\n",
       "2016-09-18 08:00:00    1.3\n",
       "Name: value, dtype: float64"
      ]
     },
     "execution_count": 11,
     "metadata": {},
     "output_type": "execute_result"
    }
   ],
   "source": [
    "mymaskeddata.value['2016-09-18']"
   ]
  },
  {
   "cell_type": "code",
   "execution_count": 12,
   "metadata": {},
   "outputs": [
    {
     "data": {
      "text/plain": [
       "0.02"
      ]
     },
     "execution_count": 12,
     "metadata": {},
     "output_type": "execute_result"
    }
   ],
   "source": [
    "interpdata = mymaskeddata.interpolate(method='nearest')\n",
    "interpdata.value['2012-10-14 20:00']"
   ]
  },
  {
   "cell_type": "code",
   "execution_count": 13,
   "metadata": {},
   "outputs": [
    {
     "data": {
      "text/html": [
       "<div>\n",
       "<style scoped>\n",
       "    .dataframe tbody tr th:only-of-type {\n",
       "        vertical-align: middle;\n",
       "    }\n",
       "\n",
       "    .dataframe tbody tr th {\n",
       "        vertical-align: top;\n",
       "    }\n",
       "\n",
       "    .dataframe thead th {\n",
       "        text-align: right;\n",
       "    }\n",
       "</style>\n",
       "<table border=\"1\" class=\"dataframe\">\n",
       "  <thead>\n",
       "    <tr style=\"text-align: right;\">\n",
       "      <th></th>\n",
       "      <th>value</th>\n",
       "    </tr>\n",
       "    <tr>\n",
       "      <th>time</th>\n",
       "      <th></th>\n",
       "    </tr>\n",
       "  </thead>\n",
       "  <tbody>\n",
       "    <tr>\n",
       "      <th>2012-10-10 02:00:00</th>\n",
       "      <td>0.08</td>\n",
       "    </tr>\n",
       "    <tr>\n",
       "      <th>2012-10-10 03:00:00</th>\n",
       "      <td>NaN</td>\n",
       "    </tr>\n",
       "    <tr>\n",
       "      <th>2012-10-10 04:00:00</th>\n",
       "      <td>0.08</td>\n",
       "    </tr>\n",
       "    <tr>\n",
       "      <th>2012-10-10 05:00:00</th>\n",
       "      <td>NaN</td>\n",
       "    </tr>\n",
       "    <tr>\n",
       "      <th>2012-10-10 06:00:00</th>\n",
       "      <td>0.08</td>\n",
       "    </tr>\n",
       "    <tr>\n",
       "      <th>2012-10-10 07:00:00</th>\n",
       "      <td>NaN</td>\n",
       "    </tr>\n",
       "    <tr>\n",
       "      <th>2012-10-10 08:00:00</th>\n",
       "      <td>0.08</td>\n",
       "    </tr>\n",
       "    <tr>\n",
       "      <th>2012-10-10 09:00:00</th>\n",
       "      <td>NaN</td>\n",
       "    </tr>\n",
       "    <tr>\n",
       "      <th>2012-10-10 10:00:00</th>\n",
       "      <td>0.08</td>\n",
       "    </tr>\n",
       "    <tr>\n",
       "      <th>2012-10-10 11:00:00</th>\n",
       "      <td>NaN</td>\n",
       "    </tr>\n",
       "    <tr>\n",
       "      <th>2012-10-10 12:00:00</th>\n",
       "      <td>0.08</td>\n",
       "    </tr>\n",
       "    <tr>\n",
       "      <th>2012-10-10 13:00:00</th>\n",
       "      <td>NaN</td>\n",
       "    </tr>\n",
       "    <tr>\n",
       "      <th>2012-10-10 14:00:00</th>\n",
       "      <td>0.08</td>\n",
       "    </tr>\n",
       "    <tr>\n",
       "      <th>2012-10-10 15:00:00</th>\n",
       "      <td>NaN</td>\n",
       "    </tr>\n",
       "    <tr>\n",
       "      <th>2012-10-10 16:00:00</th>\n",
       "      <td>0.08</td>\n",
       "    </tr>\n",
       "    <tr>\n",
       "      <th>2012-10-10 17:00:00</th>\n",
       "      <td>NaN</td>\n",
       "    </tr>\n",
       "    <tr>\n",
       "      <th>2012-10-10 18:00:00</th>\n",
       "      <td>0.08</td>\n",
       "    </tr>\n",
       "    <tr>\n",
       "      <th>2012-10-10 19:00:00</th>\n",
       "      <td>NaN</td>\n",
       "    </tr>\n",
       "    <tr>\n",
       "      <th>2012-10-10 20:00:00</th>\n",
       "      <td>0.05</td>\n",
       "    </tr>\n",
       "    <tr>\n",
       "      <th>2012-10-10 21:00:00</th>\n",
       "      <td>NaN</td>\n",
       "    </tr>\n",
       "    <tr>\n",
       "      <th>2012-10-10 22:00:00</th>\n",
       "      <td>0.05</td>\n",
       "    </tr>\n",
       "    <tr>\n",
       "      <th>2012-10-10 23:00:00</th>\n",
       "      <td>NaN</td>\n",
       "    </tr>\n",
       "    <tr>\n",
       "      <th>2012-10-11 00:00:00</th>\n",
       "      <td>0.08</td>\n",
       "    </tr>\n",
       "    <tr>\n",
       "      <th>2012-10-11 01:00:00</th>\n",
       "      <td>NaN</td>\n",
       "    </tr>\n",
       "    <tr>\n",
       "      <th>2012-10-11 02:00:00</th>\n",
       "      <td>0.05</td>\n",
       "    </tr>\n",
       "    <tr>\n",
       "      <th>2012-10-11 03:00:00</th>\n",
       "      <td>NaN</td>\n",
       "    </tr>\n",
       "    <tr>\n",
       "      <th>2012-10-11 04:00:00</th>\n",
       "      <td>0.05</td>\n",
       "    </tr>\n",
       "    <tr>\n",
       "      <th>2012-10-11 05:00:00</th>\n",
       "      <td>NaN</td>\n",
       "    </tr>\n",
       "    <tr>\n",
       "      <th>2012-10-11 06:00:00</th>\n",
       "      <td>0.05</td>\n",
       "    </tr>\n",
       "    <tr>\n",
       "      <th>2012-10-11 07:00:00</th>\n",
       "      <td>NaN</td>\n",
       "    </tr>\n",
       "    <tr>\n",
       "      <th>...</th>\n",
       "      <td>...</td>\n",
       "    </tr>\n",
       "    <tr>\n",
       "      <th>2016-09-17 03:00:00</th>\n",
       "      <td>NaN</td>\n",
       "    </tr>\n",
       "    <tr>\n",
       "      <th>2016-09-17 04:00:00</th>\n",
       "      <td>1.40</td>\n",
       "    </tr>\n",
       "    <tr>\n",
       "      <th>2016-09-17 05:00:00</th>\n",
       "      <td>NaN</td>\n",
       "    </tr>\n",
       "    <tr>\n",
       "      <th>2016-09-17 06:00:00</th>\n",
       "      <td>NaN</td>\n",
       "    </tr>\n",
       "    <tr>\n",
       "      <th>2016-09-17 07:00:00</th>\n",
       "      <td>NaN</td>\n",
       "    </tr>\n",
       "    <tr>\n",
       "      <th>2016-09-17 08:00:00</th>\n",
       "      <td>1.30</td>\n",
       "    </tr>\n",
       "    <tr>\n",
       "      <th>2016-09-17 09:00:00</th>\n",
       "      <td>NaN</td>\n",
       "    </tr>\n",
       "    <tr>\n",
       "      <th>2016-09-17 10:00:00</th>\n",
       "      <td>NaN</td>\n",
       "    </tr>\n",
       "    <tr>\n",
       "      <th>2016-09-17 11:00:00</th>\n",
       "      <td>NaN</td>\n",
       "    </tr>\n",
       "    <tr>\n",
       "      <th>2016-09-17 12:00:00</th>\n",
       "      <td>1.30</td>\n",
       "    </tr>\n",
       "    <tr>\n",
       "      <th>2016-09-17 13:00:00</th>\n",
       "      <td>NaN</td>\n",
       "    </tr>\n",
       "    <tr>\n",
       "      <th>2016-09-17 14:00:00</th>\n",
       "      <td>NaN</td>\n",
       "    </tr>\n",
       "    <tr>\n",
       "      <th>2016-09-17 15:00:00</th>\n",
       "      <td>NaN</td>\n",
       "    </tr>\n",
       "    <tr>\n",
       "      <th>2016-09-17 16:00:00</th>\n",
       "      <td>1.30</td>\n",
       "    </tr>\n",
       "    <tr>\n",
       "      <th>2016-09-17 17:00:00</th>\n",
       "      <td>NaN</td>\n",
       "    </tr>\n",
       "    <tr>\n",
       "      <th>2016-09-17 18:00:00</th>\n",
       "      <td>NaN</td>\n",
       "    </tr>\n",
       "    <tr>\n",
       "      <th>2016-09-17 19:00:00</th>\n",
       "      <td>NaN</td>\n",
       "    </tr>\n",
       "    <tr>\n",
       "      <th>2016-09-17 20:00:00</th>\n",
       "      <td>1.30</td>\n",
       "    </tr>\n",
       "    <tr>\n",
       "      <th>2016-09-17 21:00:00</th>\n",
       "      <td>NaN</td>\n",
       "    </tr>\n",
       "    <tr>\n",
       "      <th>2016-09-17 22:00:00</th>\n",
       "      <td>NaN</td>\n",
       "    </tr>\n",
       "    <tr>\n",
       "      <th>2016-09-17 23:00:00</th>\n",
       "      <td>NaN</td>\n",
       "    </tr>\n",
       "    <tr>\n",
       "      <th>2016-09-18 00:00:00</th>\n",
       "      <td>1.30</td>\n",
       "    </tr>\n",
       "    <tr>\n",
       "      <th>2016-09-18 01:00:00</th>\n",
       "      <td>NaN</td>\n",
       "    </tr>\n",
       "    <tr>\n",
       "      <th>2016-09-18 02:00:00</th>\n",
       "      <td>NaN</td>\n",
       "    </tr>\n",
       "    <tr>\n",
       "      <th>2016-09-18 03:00:00</th>\n",
       "      <td>NaN</td>\n",
       "    </tr>\n",
       "    <tr>\n",
       "      <th>2016-09-18 04:00:00</th>\n",
       "      <td>1.30</td>\n",
       "    </tr>\n",
       "    <tr>\n",
       "      <th>2016-09-18 05:00:00</th>\n",
       "      <td>NaN</td>\n",
       "    </tr>\n",
       "    <tr>\n",
       "      <th>2016-09-18 06:00:00</th>\n",
       "      <td>NaN</td>\n",
       "    </tr>\n",
       "    <tr>\n",
       "      <th>2016-09-18 07:00:00</th>\n",
       "      <td>NaN</td>\n",
       "    </tr>\n",
       "    <tr>\n",
       "      <th>2016-09-18 08:00:00</th>\n",
       "      <td>1.30</td>\n",
       "    </tr>\n",
       "  </tbody>\n",
       "</table>\n",
       "<p>34543 rows × 1 columns</p>\n",
       "</div>"
      ],
      "text/plain": [
       "                     value\n",
       "time                      \n",
       "2012-10-10 02:00:00   0.08\n",
       "2012-10-10 03:00:00    NaN\n",
       "2012-10-10 04:00:00   0.08\n",
       "2012-10-10 05:00:00    NaN\n",
       "2012-10-10 06:00:00   0.08\n",
       "2012-10-10 07:00:00    NaN\n",
       "2012-10-10 08:00:00   0.08\n",
       "2012-10-10 09:00:00    NaN\n",
       "2012-10-10 10:00:00   0.08\n",
       "2012-10-10 11:00:00    NaN\n",
       "2012-10-10 12:00:00   0.08\n",
       "2012-10-10 13:00:00    NaN\n",
       "2012-10-10 14:00:00   0.08\n",
       "2012-10-10 15:00:00    NaN\n",
       "2012-10-10 16:00:00   0.08\n",
       "2012-10-10 17:00:00    NaN\n",
       "2012-10-10 18:00:00   0.08\n",
       "2012-10-10 19:00:00    NaN\n",
       "2012-10-10 20:00:00   0.05\n",
       "2012-10-10 21:00:00    NaN\n",
       "2012-10-10 22:00:00   0.05\n",
       "2012-10-10 23:00:00    NaN\n",
       "2012-10-11 00:00:00   0.08\n",
       "2012-10-11 01:00:00    NaN\n",
       "2012-10-11 02:00:00   0.05\n",
       "2012-10-11 03:00:00    NaN\n",
       "2012-10-11 04:00:00   0.05\n",
       "2012-10-11 05:00:00    NaN\n",
       "2012-10-11 06:00:00   0.05\n",
       "2012-10-11 07:00:00    NaN\n",
       "...                    ...\n",
       "2016-09-17 03:00:00    NaN\n",
       "2016-09-17 04:00:00   1.40\n",
       "2016-09-17 05:00:00    NaN\n",
       "2016-09-17 06:00:00    NaN\n",
       "2016-09-17 07:00:00    NaN\n",
       "2016-09-17 08:00:00   1.30\n",
       "2016-09-17 09:00:00    NaN\n",
       "2016-09-17 10:00:00    NaN\n",
       "2016-09-17 11:00:00    NaN\n",
       "2016-09-17 12:00:00   1.30\n",
       "2016-09-17 13:00:00    NaN\n",
       "2016-09-17 14:00:00    NaN\n",
       "2016-09-17 15:00:00    NaN\n",
       "2016-09-17 16:00:00   1.30\n",
       "2016-09-17 17:00:00    NaN\n",
       "2016-09-17 18:00:00    NaN\n",
       "2016-09-17 19:00:00    NaN\n",
       "2016-09-17 20:00:00   1.30\n",
       "2016-09-17 21:00:00    NaN\n",
       "2016-09-17 22:00:00    NaN\n",
       "2016-09-17 23:00:00    NaN\n",
       "2016-09-18 00:00:00   1.30\n",
       "2016-09-18 01:00:00    NaN\n",
       "2016-09-18 02:00:00    NaN\n",
       "2016-09-18 03:00:00    NaN\n",
       "2016-09-18 04:00:00   1.30\n",
       "2016-09-18 05:00:00    NaN\n",
       "2016-09-18 06:00:00    NaN\n",
       "2016-09-18 07:00:00    NaN\n",
       "2016-09-18 08:00:00   1.30\n",
       "\n",
       "[34543 rows x 1 columns]"
      ]
     },
     "execution_count": 13,
     "metadata": {},
     "output_type": "execute_result"
    }
   ],
   "source": [
    "interpdata.asfreq('1h')"
   ]
  },
  {
   "cell_type": "code",
   "execution_count": 16,
   "metadata": {},
   "outputs": [
    {
     "data": {
      "text/plain": [
       "time\n",
       "2012-12-31   -0.73\n",
       "2013-12-31   -0.06\n",
       "2014-12-31   -0.10\n",
       "2015-12-31   -0.10\n",
       "2016-12-31    1.30\n",
       "Freq: A-DEC, Name: value, dtype: float64"
      ]
     },
     "execution_count": 16,
     "metadata": {},
     "output_type": "execute_result"
    }
   ],
   "source": [
    "interpdata.value.resample('Y').fillna(method='nearest')"
   ]
  },
  {
   "cell_type": "code",
   "execution_count": 17,
   "metadata": {},
   "outputs": [
    {
     "data": {
      "text/plain": [
       "time\n",
       "2012-10-10    0.08\n",
       "2012-10-11    0.08\n",
       "2012-10-12    0.05\n",
       "2012-10-13    0.02\n",
       "2012-10-14    0.02\n",
       "2012-10-15    0.02\n",
       "2012-10-16    0.02\n",
       "2012-10-17   -0.03\n",
       "2012-10-18   -0.03\n",
       "2012-10-19   -0.03\n",
       "2012-10-20   -0.03\n",
       "2012-10-21   -0.03\n",
       "2012-10-22   -0.03\n",
       "2012-10-23   -0.03\n",
       "2012-10-24   -0.03\n",
       "2012-10-25   -0.03\n",
       "2012-10-26   -0.03\n",
       "2012-10-27   -0.03\n",
       "2012-10-28   -0.03\n",
       "2012-10-29   -0.03\n",
       "2012-10-30   -0.03\n",
       "2012-10-31   -0.03\n",
       "2012-11-01   -0.03\n",
       "2012-11-02   -0.03\n",
       "2012-11-03   -0.03\n",
       "2012-11-04   -0.03\n",
       "2012-11-05   -0.03\n",
       "2012-11-06   -0.03\n",
       "2012-11-07   -0.03\n",
       "2012-11-08   -0.03\n",
       "              ... \n",
       "2016-08-20    2.60\n",
       "2016-08-21    2.60\n",
       "2016-08-22    2.60\n",
       "2016-08-23    2.60\n",
       "2016-08-24    2.60\n",
       "2016-08-25    2.60\n",
       "2016-08-26    2.60\n",
       "2016-08-27    2.60\n",
       "2016-08-28    2.50\n",
       "2016-08-29    2.40\n",
       "2016-08-30    2.20\n",
       "2016-08-31    2.00\n",
       "2016-09-01    2.00\n",
       "2016-09-02    2.00\n",
       "2016-09-03    2.00\n",
       "2016-09-04    2.10\n",
       "2016-09-05    2.10\n",
       "2016-09-06    2.10\n",
       "2016-09-07    2.10\n",
       "2016-09-08    2.10\n",
       "2016-09-09    2.10\n",
       "2016-09-10    2.10\n",
       "2016-09-11    2.00\n",
       "2016-09-12    2.00\n",
       "2016-09-13    1.90\n",
       "2016-09-14    1.70\n",
       "2016-09-15    1.60\n",
       "2016-09-16    1.50\n",
       "2016-09-17    1.40\n",
       "2016-09-18    1.30\n",
       "Freq: D, Name: value, Length: 1440, dtype: float64"
      ]
     },
     "execution_count": 17,
     "metadata": {},
     "output_type": "execute_result"
    }
   ],
   "source": [
    "interpdata.value.resample('D').fillna(method='nearest')"
   ]
  },
  {
   "cell_type": "code",
   "execution_count": 18,
   "metadata": {},
   "outputs": [
    {
     "data": {
      "text/plain": [
       "<matplotlib.axes._subplots.AxesSubplot at 0x7f9e2cdb0c50>"
      ]
     },
     "execution_count": 18,
     "metadata": {},
     "output_type": "execute_result"
    },
    {
     "data": {
      "image/png": "[encoded data removed]",
      "text/plain": [
       "<Figure size 432x288 with 1 Axes>"
      ]
     },
     "metadata": {},
     "output_type": "display_data"
    },
    {
     "data": {
      "image/png": "[encoded data removed]",
      "text/plain": [
       "<Figure size 432x288 with 1 Axes>"
      ]
     },
     "metadata": {},
     "output_type": "display_data"
    },
    {
     "data": {
      "image/png": "[encoded data removed]",
      "text/plain": [
       "<Figure size 432x288 with 1 Axes>"
      ]
     },
     "metadata": {},
     "output_type": "display_data"
    }
   ],
   "source": [
    "y_mean = interpdata.value.resample('Y').apply(['mean','median','std'])\n",
    "d_mean = interpdata.value.resample('D').apply(['mean','median','std'])\n",
    "interpdata.plot()\n",
    "y_mean.plot()\n",
    "d_mean.plot()"
   ]
  },
  {
   "cell_type": "code",
   "execution_count": null,
   "metadata": {},
   "outputs": [],
   "source": []
  }
 ],
 "metadata": {
  "kernelspec": {
   "display_name": "Python 3",
   "language": "python",
   "name": "python3"
  },
  "language_info": {
   "codemirror_mode": {
    "name": "ipython",
    "version": 3
   },
   "file_extension": ".py",
   "mimetype": "text/x-python",
   "name": "python",
   "nbconvert_exporter": "python",
   "pygments_lexer": "ipython3",
   "version": "3.6.6"
  }
 },
 "nbformat": 4,
 "nbformat_minor": 2
}
